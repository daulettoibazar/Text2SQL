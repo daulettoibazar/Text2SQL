{
 "cells": [
  {
   "cell_type": "code",
   "execution_count": 1,
   "id": "4784567e",
   "metadata": {},
   "outputs": [],
   "source": [
    "from transformers import AutoTokenizer, T5ForConditionalGeneration"
   ]
  },
  {
   "cell_type": "code",
   "execution_count": 2,
   "id": "f5878dda",
   "metadata": {},
   "outputs": [],
   "source": [
    "model_name = \"/home/toibazd/Data/Text2SQL/content/t5-small-finetuned-wikisql\""
   ]
  },
  {
   "cell_type": "code",
   "execution_count": 3,
   "id": "013e25cd",
   "metadata": {},
   "outputs": [],
   "source": [
    "tokenizer = AutoTokenizer.from_pretrained(model_name)\n",
    "model = T5ForConditionalGeneration.from_pretrained(model_name)"
   ]
  },
  {
   "cell_type": "code",
   "execution_count": 4,
   "id": "95f8e0ba",
   "metadata": {},
   "outputs": [],
   "source": [
    "from datasets import load_dataset"
   ]
  },
  {
   "cell_type": "code",
   "execution_count": 5,
   "id": "cbfd20e6",
   "metadata": {},
   "outputs": [
    {
     "name": "stderr",
     "output_type": "stream",
     "text": [
      "Found cached dataset wikisql (/home/toibazd/.cache/huggingface/datasets/wikisql/default/0.1.0/7037bfe6a42b1ca2b6ac3ccacba5253b1825d31379e9cc626fc79a620977252d)\n"
     ]
    }
   ],
   "source": [
    "dataset = load_dataset(\"wikisql\", split=\"test\")"
   ]
  },
  {
   "cell_type": "code",
   "execution_count": 6,
   "id": "5669ed13",
   "metadata": {},
   "outputs": [
    {
     "data": {
      "text/plain": [
       "Dataset({\n",
       "    features: ['phase', 'question', 'table', 'sql'],\n",
       "    num_rows: 15878\n",
       "})"
      ]
     },
     "execution_count": 6,
     "metadata": {},
     "output_type": "execute_result"
    }
   ],
   "source": [
    "dataset"
   ]
  },
  {
   "cell_type": "code",
   "execution_count": 10,
   "id": "1a02daee",
   "metadata": {},
   "outputs": [],
   "source": [
    "def translate_to_SQL(example):\n",
    "    inputs = tokenizer(example, padding=\"max_length\", truncation=True, max_length=64, return_tensors=\"pt\")\n",
    "    outputs = model.generate(**inputs, max_length = 64)\n",
    "    return tokenizer.decode(outputs[0], skip_special_tokens=True)\n",
    "\n"
   ]
  },
  {
   "cell_type": "code",
   "execution_count": 13,
   "id": "ea3afc4a",
   "metadata": {},
   "outputs": [
    {
     "name": "stdout",
     "output_type": "stream",
     "text": [
      "translate to SQL:  What is terrence ross' nationality\n",
      "Expected:  SELECT Nationality FROM table WHERE Player = Terrence Ross\n",
      "Predicted:  SELECT Nationality FROM table WHERE Player = Terrence Ross\n",
      "==========\n",
      "\n",
      "translate to SQL:  What rank was Bryan Danielson in this chart?\n",
      "Expected:  SELECT Rank Each wrestlers total number of days as champion are ranked highest to lowest; wrestlers with the same number mean that they are tied for that certain rank. FROM table WHERE Wrestler = Bryan Danielson\n",
      "Predicted:  SELECT Rank FROM table WHERE Player = brian danielson\n",
      "==========\n",
      "\n",
      "translate to SQL:  If a radius is 10, what  is the lowest possible mass?\n",
      "Expected:  SELECT MIN Mass (M ☉ ) FROM table WHERE Radius (R ☉ ) = 10\n",
      "Predicted:  SELECT MIN Mass FROM table WHERE Radius = 10\n",
      "==========\n",
      "\n",
      "translate to SQL:  Which city has a capacity of 41903?\n",
      "Expected:  SELECT City FROM table WHERE Capacity = 41903\n",
      "Predicted:  SELECT City FROM table WHERE Capacity = 41903\n",
      "==========\n",
      "\n",
      "translate to SQL:  What college did Calvin McCarty play at?\n",
      "Expected:  SELECT College FROM table WHERE Player = Calvin McCarty\n",
      "Predicted:  SELECT College FROM table WHERE Player = calvin mccarty\n",
      "==========\n",
      "\n",
      "translate to SQL:  Who directed the second episode of \"The Homecoming\" which was written by Tommy Thompson?\n",
      "Expected:  SELECT Directed by FROM table WHERE Written by = Tommy Thompson\n",
      "Predicted:  SELECT Directed by FROM table WHERE Written by = Tommy Thompson AND Title = \"The Homecoming\"\n",
      "==========\n",
      "\n",
      "translate to SQL:  The stenhousemuir team had how many highest attendances?\n",
      "Expected:  SELECT COUNT Highest FROM table WHERE Team = Stenhousemuir\n",
      "Predicted:  SELECT MAX Attendance FROM table WHERE Team = Sterhousemuir\n",
      "==========\n",
      "\n",
      "translate to SQL:  What is the premiere on the mega channel?\n",
      "Expected:  SELECT Premiere FROM table WHERE Channel = Mega Channel\n",
      "Predicted:  SELECT Premiere FROM table WHERE Channel = mega\n",
      "==========\n",
      "\n",
      "translate to SQL:  Who was the winning driver when the grand Prix was at Belgian Grand Prix?\n",
      "Expected:  SELECT Winning Driver FROM table WHERE Grand Prix = Belgian Grand Prix\n",
      "Predicted:  SELECT Winning driver FROM table WHERE Grand Prix = Belgian Grand Prix\n",
      "==========\n",
      "\n",
      "translate to SQL:  what is the total number of opponent where date is november 23, 1980\n",
      "Expected:  SELECT COUNT Opponent FROM table WHERE Date = November 23, 1980\n",
      "Predicted:  SELECT COUNT Opponent FROM table WHERE Date = November 23, 1980\n",
      "==========\n",
      "\n",
      "translate to SQL:  Is the drawing tablet support part of the DDM class?\n",
      "Expected:  SELECT DDM Class FROM table WHERE Comparisons = Drawing Tablet Support\n",
      "Predicted:  SELECT Drawing Tablet support FROM table WHERE Class = ddm\n",
      "==========\n",
      "\n",
      "translate to SQL:  What is the most series number with season 3?\n",
      "Expected:  SELECT MAX Series # FROM table WHERE Season # = 3\n",
      "Predicted:  SELECT MAX Series # FROM table WHERE Season # = 3\n",
      "==========\n",
      "\n",
      "translate to SQL:  What position did the player from Jersey City, New Jersey play? \n",
      "Expected:  SELECT Position FROM table WHERE Hometown = Jersey City, New Jersey\n",
      "Predicted:  SELECT Position FROM table WHERE College/junior/club team = jersey city, new jersey\n",
      "==========\n",
      "\n",
      "translate to SQL:  Who scored a 9.72 in the swimsuit?\n",
      "Expected:  SELECT Interview FROM table WHERE Swimsuit = 9.72\n",
      "Predicted:  SELECT Swimsuit FROM table WHERE Swimsuit = 9.72\n",
      "==========\n",
      "\n",
      "translate to SQL:  how many times is the co-singer suresh wadkar and the film name is tera dukh mera dukh?\n",
      "Expected:  SELECT COUNT Lyricist FROM table WHERE Co-singer = Suresh Wadkar AND Film name = Tera Dukh Mera Dukh\n",
      "Predicted:  SELECT COUNT COUNT Co-Singer FROM table WHERE Film Name = Tera Dukh Mera Dukh\n",
      "==========\n",
      "\n",
      "translate to SQL:  What numbr on the list had a peak rating of 42?\n",
      "Expected:  SELECT MIN Rank FROM table WHERE Peak = 42\n",
      "Predicted:  SELECT Numbr FROM table WHERE Peak rating = 42\n",
      "==========\n",
      "\n",
      "translate to SQL:  What is the weight(lbs) when born is april 6, 1954 detroit, mi?\n",
      "Expected:  SELECT Weight(lbs) FROM table WHERE Born = April 6, 1954 Detroit, MI\n",
      "Predicted:  SELECT Weight (lbs) FROM table WHERE Born = April 6, 1954 Detroit, MI\n",
      "==========\n",
      "\n",
      "translate to SQL:  What is the score for interview when the preliminaries score is 8.425?\n",
      "Expected:  SELECT Interview FROM table WHERE Preliminaries = 8.425\n",
      "Predicted:  SELECT Interview FROM table WHERE Preliminaries = 8.425\n",
      "==========\n",
      "\n",
      "translate to SQL:   what's the cover date where character(s) is x-men ; magneto\n",
      "Expected:  SELECT Cover Date FROM table WHERE Character(s) = X-Men ; Magneto\n",
      "Predicted:  SELECT Cover date FROM table WHERE Character(s) = x-men ; magneto\n",
      "==========\n",
      "\n",
      "translate to SQL:  What is the intergiro classification of stage 21?\n",
      "Expected:  SELECT Intergiro classification FROM table WHERE Stage = 21\n",
      "Predicted:  SELECT Intergiro classification FROM table WHERE Stage = 21\n",
      "==========\n",
      "\n"
     ]
    }
   ],
   "source": [
    "for i in range(0, 500, 25):\n",
    "    print(\"translate to SQL: \", dataset[i][\"question\"])\n",
    "    print(\"Expected: \", dataset[i][\"sql\"][\"human_readable\"])\n",
    "    print(\"Predicted: \", translate_to_SQL(\"translate to SQL\" + dataset[i][\"question\"]))\n",
    "    print(\"==========\\n\")"
   ]
  },
  {
   "cell_type": "code",
   "execution_count": null,
   "id": "ce0e615e",
   "metadata": {},
   "outputs": [],
   "source": []
  }
 ],
 "metadata": {
  "kernelspec": {
   "display_name": "Python 3 (ipykernel)",
   "language": "python",
   "name": "python3"
  },
  "language_info": {
   "codemirror_mode": {
    "name": "ipython",
    "version": 3
   },
   "file_extension": ".py",
   "mimetype": "text/x-python",
   "name": "python",
   "nbconvert_exporter": "python",
   "pygments_lexer": "ipython3",
   "version": "3.9.13"
  }
 },
 "nbformat": 4,
 "nbformat_minor": 5
}

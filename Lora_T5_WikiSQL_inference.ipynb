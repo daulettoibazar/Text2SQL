{
 "cells": [
  {
   "cell_type": "code",
   "execution_count": null,
   "id": "a9538a02",
   "metadata": {},
   "outputs": [],
   "source": [
    "import torch\n",
    "from peft import PeftModel, PeftConfig\n",
    "from transformers import AutoModelForCausalLM, AutoTokenizer\n",
    "\n",
    "hf_peft_repo = \"psmathur/bloom-7b1-lora-quote-generator\"\n",
    "peft_config = PeftConfig.from_pretrained(hf_peft_repo)\n",
    "model = AutoModelForCausalLM.from_pretrained(peft_config.base_model_name_or_path, return_dict=True, load_in_8bit=True, device_map='auto')\n",
    "tokenizer = AutoTokenizer.from_pretrained(peft_config.base_model_name_or_path)\n",
    "\n",
    "# Load the finetuned Lora PEFT model\n",
    "model = PeftModel.from_pretrained(model, hf_peft_repo)\n",
    "example_batch = tokenizer(\"greek, books, wisdom ==>: \", return_tensors='pt')\n",
    "\n",
    "with torch.cuda.amp.autocast():\n",
    "  output_tokens = model.generate(**example_batch, max_new_tokens=400)\n",
    "\n",
    "print('\\n\\n', tokenizer.decode(output_tokens[0], skip_special_tokens=True))"
   ]
  }
 ],
 "metadata": {
  "kernelspec": {
   "display_name": "Python 3 (ipykernel)",
   "language": "python",
   "name": "python3"
  },
  "language_info": {
   "codemirror_mode": {
    "name": "ipython",
    "version": 3
   },
   "file_extension": ".py",
   "mimetype": "text/x-python",
   "name": "python",
   "nbconvert_exporter": "python",
   "pygments_lexer": "ipython3",
   "version": "3.9.13"
  }
 },
 "nbformat": 4,
 "nbformat_minor": 5
}

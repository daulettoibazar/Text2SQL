{
 "cells": [
  {
   "cell_type": "code",
   "execution_count": 1,
   "id": "a31f9dfe",
   "metadata": {},
   "outputs": [],
   "source": [
    "import pandas as pd\n",
    "\n",
    "df = pd.read_csv('Training_set_IMDB/training_set_sample_no_target.csv')"
   ]
  },
  {
   "cell_type": "code",
   "execution_count": 2,
   "id": "de265ff5",
   "metadata": {},
   "outputs": [
    {
     "name": "stdout",
     "output_type": "stream",
     "text": [
      "<class 'pandas.core.frame.DataFrame'>\n",
      "RangeIndex: 43063 entries, 0 to 43062\n",
      "Data columns (total 2 columns):\n",
      " #   Column  Non-Null Count  Dtype \n",
      "---  ------  --------------  ----- \n",
      " 0   Text    43063 non-null  object\n",
      " 1   SQL     43063 non-null  object\n",
      "dtypes: object(2)\n",
      "memory usage: 673.0+ KB\n"
     ]
    }
   ],
   "source": [
    "df.info()"
   ]
  },
  {
   "cell_type": "code",
   "execution_count": 3,
   "id": "ad86ed9e",
   "metadata": {},
   "outputs": [
    {
     "data": {
      "text/plain": [
       "(43063, 2)"
      ]
     },
     "execution_count": 3,
     "metadata": {},
     "output_type": "execute_result"
    }
   ],
   "source": [
    "df.shape"
   ]
  },
  {
   "cell_type": "code",
   "execution_count": 4,
   "id": "e629ac25",
   "metadata": {},
   "outputs": [
    {
     "data": {
      "text/plain": [
       "0    what is the highest rank movie in year 2002\n",
       "1    what is the highest rank movie in year 2000\n",
       "2    what is the highest rank movie in year 1971\n",
       "3    what is the highest rank movie in year 1913\n",
       "4    what is the highest rank movie in year 1915\n",
       "5    what is the highest rank movie in year 1923\n",
       "6    what is the highest rank movie in year 1920\n",
       "7    what is the highest rank movie in year 1921\n",
       "8    what is the highest rank movie in year 2001\n",
       "9    what is the highest rank movie in year 1939\n",
       "Name: Text, dtype: object"
      ]
     },
     "execution_count": 4,
     "metadata": {},
     "output_type": "execute_result"
    }
   ],
   "source": [
    "df[\"Text\"].head(10)"
   ]
  },
  {
   "cell_type": "code",
   "execution_count": 7,
   "id": "288d6278",
   "metadata": {},
   "outputs": [],
   "source": [
    "from datasets import load_from_disk"
   ]
  },
  {
   "cell_type": "code",
   "execution_count": 8,
   "id": "8126c815",
   "metadata": {},
   "outputs": [],
   "source": [
    "dataset = load_from_disk('Training_set_IMDB/testing_dataset_sample/')"
   ]
  },
  {
   "cell_type": "code",
   "execution_count": 9,
   "id": "54bf9455",
   "metadata": {},
   "outputs": [
    {
     "data": {
      "text/plain": [
       "Dataset({\n",
       "    features: ['inputs', 'target'],\n",
       "    num_rows: 4307\n",
       "})"
      ]
     },
     "execution_count": 9,
     "metadata": {},
     "output_type": "execute_result"
    }
   ],
   "source": [
    "dataset"
   ]
  },
  {
   "cell_type": "code",
   "execution_count": 16,
   "id": "358eb8f7",
   "metadata": {},
   "outputs": [
    {
     "data": {
      "text/plain": [
       "[\"SELECT a.first_name as first_name, a.last_name as last_name, r.role AS first_role FROM actors a INNER JOIN ( SELECT r.actor_id, MIN(m.year) AS min_movie_year FROM roles r INNER JOIN movies m ON r.movie_id = m.id GROUP BY r.actor_id ) t ON a.id = t.actor_id INNER JOIN roles r ON t.actor_id = r.actor_id INNER JOIN movies m ON r.movie_id = m.id AND t.min_movie_year = m.year WHERE a.first_name = 'Jack (VI)' AND a.last_name = 'Lewis'\",\n",
       " \"SELECT d.id AS director_id, d.first_name, d.last_name, COUNT(m.id) AS movie_count FROM directors d JOIN movies_directors md ON d.id = md.director_id JOIN movies m ON md.movie_id = m.id WHERE d.first_name = 'Julio César' AND d.last_name = 'Marmol' AND m.year = 1975 GROUP BY d.id, d.first_name, d.last_name\",\n",
       " \"SELECT r.role AS recent_role FROM actors a INNER JOIN roles r ON a.id = r.actor_id INNER JOIN movies m ON r.movie_id = m.id WHERE a.first_name = 'Natasha' AND a.last_name = 'Cashman' ORDER BY m.year DESC LIMIT 1\",\n",
       " \"SELECT d.id AS director_id, d.first_name, d.last_name FROM actors a JOIN roles r ON a.id = r.actor_id JOIN movies_directors md ON r.movie_id = md.movie_id JOIN directors d ON md.director_id = d.id WHERE a.first_name = 'Mitsuyo' AND a.last_name = 'Akashi' GROUP BY d.id, d.first_name, d.last_name ORDER BY COUNT(*) DESC LIMIT 1\",\n",
       " \"SELECT d.id AS director_id, d.first_name, d.last_name FROM actors a JOIN roles r ON a.id = r.actor_id JOIN movies_directors md ON r.movie_id = md.movie_id JOIN directors d ON md.director_id = d.id WHERE a.first_name = 'John (VII)' AND a.last_name = 'Maloney' GROUP BY d.id, d.first_name, d.last_name ORDER BY COUNT(*) DESC LIMIT 1\",\n",
       " \"SELECT genre FROM directors t1 JOIN directors_genres t2 ON t1.id = t2.director_id WHERE t1.first_name = 'Daniel' AND t1.last_name = 'Baer'\",\n",
       " \"SELECT DISTINCT movies_genres.genre FROM movies JOIN movies_genres ON movies.id = movies_genres.movie_id WHERE movies.name = 'Quest for Truth'\",\n",
       " \"SELECT DISTINCT movies_genres.genre FROM movies JOIN movies_genres ON movies.id = movies_genres.movie_id WHERE movies.name = 'Danish Teenagers Volume 2'\",\n",
       " \"SELECT AVG(m.rank) AS average_rank FROM directors d JOIN movies_directors md ON d.id = md.director_id JOIN movies m ON md.movie_id = m.id WHERE d.first_name = 'Sarah' AND d.last_name = 'Raxlen'\",\n",
       " \"SELECT d.id AS director_id, d.first_name, d.last_name FROM actors a JOIN roles r ON a.id = r.actor_id JOIN movies_directors md ON r.movie_id = md.movie_id JOIN directors d ON md.director_id = d.id WHERE a.first_name = 'Helena' AND a.last_name = 'Flor' GROUP BY d.id, d.first_name, d.last_name ORDER BY COUNT(*) DESC LIMIT 1\"]"
      ]
     },
     "execution_count": 16,
     "metadata": {},
     "output_type": "execute_result"
    }
   ],
   "source": [
    "dataset[\"target\"][:10]"
   ]
  },
  {
   "cell_type": "code",
   "execution_count": null,
   "id": "1b0fac1c",
   "metadata": {},
   "outputs": [],
   "source": []
  }
 ],
 "metadata": {
  "kernelspec": {
   "display_name": "Python 3 (ipykernel)",
   "language": "python",
   "name": "python3"
  },
  "language_info": {
   "codemirror_mode": {
    "name": "ipython",
    "version": 3
   },
   "file_extension": ".py",
   "mimetype": "text/x-python",
   "name": "python",
   "nbconvert_exporter": "python",
   "pygments_lexer": "ipython3",
   "version": "3.9.13"
  }
 },
 "nbformat": 4,
 "nbformat_minor": 5
}
